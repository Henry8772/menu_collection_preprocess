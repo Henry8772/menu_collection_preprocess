{
 "cells": [
  {
   "cell_type": "code",
   "execution_count": 1,
   "metadata": {},
   "outputs": [],
   "source": [
    "import sys\n",
    "sys.path.append(\"..\")  # Adds the parent directory to the system path\n",
    "\n",
    "\n",
    "from models.dianping_crawler import DianPingScraper\n"
   ]
  },
  {
   "cell_type": "code",
   "execution_count": 2,
   "metadata": {},
   "outputs": [
    {
     "name": "stdout",
     "output_type": "stream",
     "text": [
      "Please login to the website... and press Enter here to continue.\n"
     ]
    },
    {
     "ename": "NoSuchWindowException",
     "evalue": "Message: no such window: target window already closed\nfrom unknown error: web view not found\n  (Session info: chrome=117.0.5938.63)\nStacktrace:\n\tGetHandleVerifier [0x00007FF7F40252A2+57122]\n\t(No symbol) [0x00007FF7F3F9EA92]\n\t(No symbol) [0x00007FF7F3E6E3AB]\n\t(No symbol) [0x00007FF7F3E4E1B9]\n\t(No symbol) [0x00007FF7F3ECB417]\n\t(No symbol) [0x00007FF7F3EDE24F]\n\t(No symbol) [0x00007FF7F3EC6DB3]\n\t(No symbol) [0x00007FF7F3E9D2B1]\n\t(No symbol) [0x00007FF7F3E9E494]\n\tGetHandleVerifier [0x00007FF7F42CEF82+2849794]\n\tGetHandleVerifier [0x00007FF7F4321D24+3189156]\n\tGetHandleVerifier [0x00007FF7F431ACAF+3160367]\n\tGetHandleVerifier [0x00007FF7F40B6D06+653702]\n\t(No symbol) [0x00007FF7F3FAA208]\n\t(No symbol) [0x00007FF7F3FA62C4]\n\t(No symbol) [0x00007FF7F3FA63F6]\n\t(No symbol) [0x00007FF7F3F967A3]\n\tBaseThreadInitThunk [0x00007FF88E5526AD+29]\n\tRtlUserThreadStart [0x00007FF89000AA68+40]\n",
     "output_type": "error",
     "traceback": [
      "\u001b[1;31m---------------------------------------------------------------------------\u001b[0m",
      "\u001b[1;31mNoSuchWindowException\u001b[0m                     Traceback (most recent call last)",
      "\u001b[1;32mf:\\Fork_git\\Labelling_Menu_Data\\menu_scraper\\notebook\\restaurant_link_crawler.ipynb Cell 2\u001b[0m line \u001b[0;36m1\n\u001b[0;32m      <a href='vscode-notebook-cell:/f%3A/Fork_git/Labelling_Menu_Data/menu_scraper/notebook/restaurant_link_crawler.ipynb#W1sZmlsZQ%3D%3D?line=7'>8</a>\u001b[0m \u001b[39mprint\u001b[39m(\u001b[39m\"\u001b[39m\u001b[39mPlease login to the website... and press Enter here to continue.\u001b[39m\u001b[39m\"\u001b[39m)\n\u001b[0;32m      <a href='vscode-notebook-cell:/f%3A/Fork_git/Labelling_Menu_Data/menu_scraper/notebook/restaurant_link_crawler.ipynb#W1sZmlsZQ%3D%3D?line=8'>9</a>\u001b[0m \u001b[39minput\u001b[39m()\n\u001b[1;32m---> <a href='vscode-notebook-cell:/f%3A/Fork_git/Labelling_Menu_Data/menu_scraper/notebook/restaurant_link_crawler.ipynb#W1sZmlsZQ%3D%3D?line=10'>11</a>\u001b[0m all_shop_data \u001b[39m=\u001b[39m scraper\u001b[39m.\u001b[39;49mgather_data()\n\u001b[0;32m     <a href='vscode-notebook-cell:/f%3A/Fork_git/Labelling_Menu_Data/menu_scraper/notebook/restaurant_link_crawler.ipynb#W1sZmlsZQ%3D%3D?line=12'>13</a>\u001b[0m scraper\u001b[39m.\u001b[39msave_data(all_shop_data)\n\u001b[0;32m     <a href='vscode-notebook-cell:/f%3A/Fork_git/Labelling_Menu_Data/menu_scraper/notebook/restaurant_link_crawler.ipynb#W1sZmlsZQ%3D%3D?line=14'>15</a>\u001b[0m \u001b[39mprint\u001b[39m(\u001b[39mf\u001b[39m\u001b[39m\"\u001b[39m\u001b[39mSaved \u001b[39m\u001b[39m{\u001b[39;00m\u001b[39mlen\u001b[39m(all_shop_data)\u001b[39m}\u001b[39;00m\u001b[39m total shop data to blue-frog.json.\u001b[39m\u001b[39m\"\u001b[39m)\n",
      "File \u001b[1;32mf:\\Fork_git\\Labelling_Menu_Data\\menu_scraper\\notebook\\..\\models\\dianping_crawler.py:42\u001b[0m, in \u001b[0;36mDianPingScraper.gather_data\u001b[1;34m(self)\u001b[0m\n\u001b[0;32m     38\u001b[0m \u001b[39mdef\u001b[39;00m \u001b[39mgather_data\u001b[39m(\u001b[39mself\u001b[39m):\n\u001b[0;32m     40\u001b[0m     \u001b[39mself\u001b[39m\u001b[39m.\u001b[39mrandom_delay()\n\u001b[1;32m---> 42\u001b[0m     nav_links \u001b[39m=\u001b[39m \u001b[39mself\u001b[39;49m\u001b[39m.\u001b[39;49mget_page_links()\n\u001b[0;32m     43\u001b[0m     all_shop_data \u001b[39m=\u001b[39m \u001b[39mself\u001b[39m\u001b[39m.\u001b[39mload_existing_data()\n\u001b[0;32m     45\u001b[0m     \u001b[39m# Process all the links\u001b[39;00m\n",
      "File \u001b[1;32mf:\\Fork_git\\Labelling_Menu_Data\\menu_scraper\\notebook\\..\\models\\dianping_crawler.py:35\u001b[0m, in \u001b[0;36mDianPingScraper.get_page_links\u001b[1;34m(self)\u001b[0m\n\u001b[0;32m     34\u001b[0m \u001b[39mdef\u001b[39;00m \u001b[39mget_page_links\u001b[39m(\u001b[39mself\u001b[39m):\n\u001b[1;32m---> 35\u001b[0m     elems \u001b[39m=\u001b[39m \u001b[39mself\u001b[39;49m\u001b[39m.\u001b[39;49mdriver\u001b[39m.\u001b[39;49mfind_elements(By\u001b[39m.\u001b[39;49mXPATH, \u001b[39m'\u001b[39;49m\u001b[39m//div[@class=\u001b[39;49m\u001b[39m\"\u001b[39;49m\u001b[39mpage\u001b[39;49m\u001b[39m\"\u001b[39;49m\u001b[39m]/a[@href]\u001b[39;49m\u001b[39m'\u001b[39;49m)\n\u001b[0;32m     36\u001b[0m     \u001b[39mreturn\u001b[39;00m [elem\u001b[39m.\u001b[39mget_attribute(\u001b[39m'\u001b[39m\u001b[39mhref\u001b[39m\u001b[39m'\u001b[39m) \u001b[39mfor\u001b[39;00m elem \u001b[39min\u001b[39;00m elems]\n",
      "File \u001b[1;32mf:\\Anaconda\\envs\\Translation\\lib\\site-packages\\selenium\\webdriver\\remote\\webdriver.py:770\u001b[0m, in \u001b[0;36mWebDriver.find_elements\u001b[1;34m(self, by, value)\u001b[0m\n\u001b[0;32m    766\u001b[0m     value \u001b[39m=\u001b[39m \u001b[39mf\u001b[39m\u001b[39m'\u001b[39m\u001b[39m[name=\u001b[39m\u001b[39m\"\u001b[39m\u001b[39m{\u001b[39;00mvalue\u001b[39m}\u001b[39;00m\u001b[39m\"\u001b[39m\u001b[39m]\u001b[39m\u001b[39m'\u001b[39m\n\u001b[0;32m    768\u001b[0m \u001b[39m# Return empty list if driver returns null\u001b[39;00m\n\u001b[0;32m    769\u001b[0m \u001b[39m# See https://github.com/SeleniumHQ/selenium/issues/4555\u001b[39;00m\n\u001b[1;32m--> 770\u001b[0m \u001b[39mreturn\u001b[39;00m \u001b[39mself\u001b[39;49m\u001b[39m.\u001b[39;49mexecute(Command\u001b[39m.\u001b[39;49mFIND_ELEMENTS, {\u001b[39m\"\u001b[39;49m\u001b[39musing\u001b[39;49m\u001b[39m\"\u001b[39;49m: by, \u001b[39m\"\u001b[39;49m\u001b[39mvalue\u001b[39;49m\u001b[39m\"\u001b[39;49m: value})[\u001b[39m\"\u001b[39m\u001b[39mvalue\u001b[39m\u001b[39m\"\u001b[39m] \u001b[39mor\u001b[39;00m []\n",
      "File \u001b[1;32mf:\\Anaconda\\envs\\Translation\\lib\\site-packages\\selenium\\webdriver\\remote\\webdriver.py:346\u001b[0m, in \u001b[0;36mWebDriver.execute\u001b[1;34m(self, driver_command, params)\u001b[0m\n\u001b[0;32m    344\u001b[0m response \u001b[39m=\u001b[39m \u001b[39mself\u001b[39m\u001b[39m.\u001b[39mcommand_executor\u001b[39m.\u001b[39mexecute(driver_command, params)\n\u001b[0;32m    345\u001b[0m \u001b[39mif\u001b[39;00m response:\n\u001b[1;32m--> 346\u001b[0m     \u001b[39mself\u001b[39;49m\u001b[39m.\u001b[39;49merror_handler\u001b[39m.\u001b[39;49mcheck_response(response)\n\u001b[0;32m    347\u001b[0m     response[\u001b[39m\"\u001b[39m\u001b[39mvalue\u001b[39m\u001b[39m\"\u001b[39m] \u001b[39m=\u001b[39m \u001b[39mself\u001b[39m\u001b[39m.\u001b[39m_unwrap_value(response\u001b[39m.\u001b[39mget(\u001b[39m\"\u001b[39m\u001b[39mvalue\u001b[39m\u001b[39m\"\u001b[39m, \u001b[39mNone\u001b[39;00m))\n\u001b[0;32m    348\u001b[0m     \u001b[39mreturn\u001b[39;00m response\n",
      "File \u001b[1;32mf:\\Anaconda\\envs\\Translation\\lib\\site-packages\\selenium\\webdriver\\remote\\errorhandler.py:245\u001b[0m, in \u001b[0;36mErrorHandler.check_response\u001b[1;34m(self, response)\u001b[0m\n\u001b[0;32m    243\u001b[0m         alert_text \u001b[39m=\u001b[39m value[\u001b[39m\"\u001b[39m\u001b[39malert\u001b[39m\u001b[39m\"\u001b[39m]\u001b[39m.\u001b[39mget(\u001b[39m\"\u001b[39m\u001b[39mtext\u001b[39m\u001b[39m\"\u001b[39m)\n\u001b[0;32m    244\u001b[0m     \u001b[39mraise\u001b[39;00m exception_class(message, screen, stacktrace, alert_text)  \u001b[39m# type: ignore[call-arg]  # mypy is not smart enough here\u001b[39;00m\n\u001b[1;32m--> 245\u001b[0m \u001b[39mraise\u001b[39;00m exception_class(message, screen, stacktrace)\n",
      "\u001b[1;31mNoSuchWindowException\u001b[0m: Message: no such window: target window already closed\nfrom unknown error: web view not found\n  (Session info: chrome=117.0.5938.63)\nStacktrace:\n\tGetHandleVerifier [0x00007FF7F40252A2+57122]\n\t(No symbol) [0x00007FF7F3F9EA92]\n\t(No symbol) [0x00007FF7F3E6E3AB]\n\t(No symbol) [0x00007FF7F3E4E1B9]\n\t(No symbol) [0x00007FF7F3ECB417]\n\t(No symbol) [0x00007FF7F3EDE24F]\n\t(No symbol) [0x00007FF7F3EC6DB3]\n\t(No symbol) [0x00007FF7F3E9D2B1]\n\t(No symbol) [0x00007FF7F3E9E494]\n\tGetHandleVerifier [0x00007FF7F42CEF82+2849794]\n\tGetHandleVerifier [0x00007FF7F4321D24+3189156]\n\tGetHandleVerifier [0x00007FF7F431ACAF+3160367]\n\tGetHandleVerifier [0x00007FF7F40B6D06+653702]\n\t(No symbol) [0x00007FF7F3FAA208]\n\t(No symbol) [0x00007FF7F3FA62C4]\n\t(No symbol) [0x00007FF7F3FA63F6]\n\t(No symbol) [0x00007FF7F3F967A3]\n\tBaseThreadInitThunk [0x00007FF88E5526AD+29]\n\tRtlUserThreadStart [0x00007FF89000AA68+40]\n"
     ]
    }
   ],
   "source": [
    "DRIVER_PATH = r\"F:\\Fork_git\\Labelling_Menu_Data\\menu_scraper\\webdriver\\chromedriver-win64\\chromedriver.exe\"\n",
    "BASE_URL = \"https://www.dianping.com/search/keyword/2/0_%E8%93%9D%E8%9B%99\"\n",
    "\n",
    "scraper = DianPingScraper(DRIVER_PATH, BASE_URL)\n",
    "\n",
    "\n",
    "\n",
    "print(\"Please login to the website... and press Enter here to continue.\")\n",
    "input()\n",
    "\n",
    "all_shop_data = scraper.gather_data()\n",
    "\n",
    "scraper.save_data(all_shop_data)\n",
    "\n",
    "print(f\"Saved {len(all_shop_data)} total shop data to blue-frog.json.\")"
   ]
  }
 ],
 "metadata": {
  "kernelspec": {
   "display_name": "Translation",
   "language": "python",
   "name": "python3"
  },
  "language_info": {
   "codemirror_mode": {
    "name": "ipython",
    "version": 3
   },
   "file_extension": ".py",
   "mimetype": "text/x-python",
   "name": "python",
   "nbconvert_exporter": "python",
   "pygments_lexer": "ipython3",
   "version": "3.9.15"
  },
  "orig_nbformat": 4
 },
 "nbformat": 4,
 "nbformat_minor": 2
}
