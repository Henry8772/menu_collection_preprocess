{
 "cells": [
  {
   "cell_type": "code",
   "execution_count": 1,
   "metadata": {},
   "outputs": [
    {
     "name": "stderr",
     "output_type": "stream",
     "text": [
      "/opt/anaconda3/envs/translation/lib/python3.9/site-packages/tqdm/auto.py:22: TqdmWarning: IProgress not found. Please update jupyter and ipywidgets. See https://ipywidgets.readthedocs.io/en/stable/user_install.html\n",
      "  from .autonotebook import tqdm as notebook_tqdm\n"
     ]
    }
   ],
   "source": [
    "\n",
    "from collections import namedtuple\n",
    "from PIL import Image, ImageDraw, ImageFont\n",
    "from google.cloud import vision\n",
    "from enum import Enum\n",
    "%matplotlib inline\n",
    "import matplotlib.pyplot as plt\n",
    "import os\n",
    "import json\n",
    "from google.protobuf.json_format import MessageToJson\n",
    "from google.protobuf import json_format\n",
    "from pdf2image import convert_from_path\n",
    "import PyPDF2\n",
    "\n",
    "\n",
    "import sys\n",
    "sys.path.append(\"..\")\n",
    "from models.bounding_box import FeatureType, Point, BoundingBox\n",
    "from utils.cv_preprocess import draw_boxes, group_bounding_boxes, merge_box_groups\n",
    "\n",
    "from utils.file_utils import create_dir, prepare_image_local, prepare_image_web, load_counter, save_counter, save_json\n",
    "\n",
    "from utils.nlp_preprocess import load_spacy_models, is_english, is_chinese, split_dish_info, is_word_relevant\n",
    "\n",
    "os.environ['GOOGLE_APPLICATION_CREDENTIALS'] = '../menu-ocr-390814-027d51b70720.json'\n"
   ]
  },
  {
   "cell_type": "code",
   "execution_count": 2,
   "metadata": {},
   "outputs": [],
   "source": [
    "\n",
    "# def extract_text_from_pdf(pdf_path, output_folder):\n",
    "#     try:\n",
    "#         # Open the PDF file\n",
    "#         with open(pdf_path, 'rb') as file:\n",
    "#             # Create a PDF file reader object\n",
    "#             pdf_reader = PyPDF2.PdfReader(file)\n",
    "            \n",
    "#             # Loop through each page in the PDF\n",
    "#             for page_number in range(len(pdf_reader.pages)):\n",
    "#                 # Get the page\n",
    "#                 page = pdf_reader.pages[page_number]\n",
    "                \n",
    "#                 # Extract text from the page\n",
    "#                 text = page.extract_text ()\n",
    "                \n",
    "#                 # Create a text file and save the extracted text\n",
    "#                 output_path = f\"{output_folder}/page_{page_number + 1}.txt\"\n",
    "#                 with open(output_path, 'w', encoding='utf-8') as output_file:\n",
    "#                     output_file.write(text)\n",
    "                \n",
    "#                 print(f\"Text extracted from page {page_number + 1} and saved to {output_path}\")\n",
    "                \n",
    "#     except Exception as e:\n",
    "#         print(f\"An error occurred: {str(e)}\")\n",
    "\n",
    "# # Example usage\n",
    "# extract_text_from_pdf('../downloads/Ma-La-Menu_07-2023.pdf', \"./pdf\")\n"
   ]
  },
  {
   "cell_type": "code",
   "execution_count": 3,
   "metadata": {},
   "outputs": [],
   "source": [
    "filein = '../downloads/Ma-La-Menu_07-2023.pdf'\n",
    "base_name = os.path.basename(filein)\n",
    "file_name_without_extension = os.path.splitext(base_name)[0]\n",
    "\n",
    "\n",
    "raw_ocr_directory = '../output/raw_ocr/'\n",
    "raw_ocr_filename = file_name_without_extension + \"_raw_annotation.json\"\n",
    "raw_ocr_path = os.path.join(raw_ocr_directory, raw_ocr_filename)\n",
    "\n",
    "preprocessed_ocr_directory = '../output/prep_ocr/'\n",
    "preprocessed_ocr_filename = file_name_without_extension + \"_prep_ocr.json\"\n",
    "preprocessed_ocr_path = os.path.join(preprocessed_ocr_directory, preprocessed_ocr_filename)\n",
    "\n",
    "menu_image_directory = '../output/menu_image/'\n",
    "create_dir(menu_image_directory)\n"
   ]
  },
  {
   "cell_type": "code",
   "execution_count": 4,
   "metadata": {},
   "outputs": [],
   "source": [
    "def get_total_pages(pdf_path):\n",
    "    \"\"\"Retrieve the total number of pages in the PDF.\"\"\"\n",
    "    with open(pdf_path, 'rb') as file:\n",
    "        pdf_reader = PyPDF2.PdfReader(file)\n",
    "        total_pages = len(pdf_reader.pages)\n",
    "    return total_pages\n",
    "\n",
    "def pdf_page_to_image(pdf_path, page_number, export_filename):\n",
    "    \"\"\"Converts a specific page of a PDF to an image.\"\"\"\n",
    "    images = convert_from_path(pdf_path, first_page=page_number, last_page=page_number)\n",
    "    if images:\n",
    "        image_path = export_filename\n",
    "        images[0].save(image_path, 'PNG')\n",
    "        return image_path\n",
    "    else:\n",
    "        raise Exception(\"Page not converted to image\")\n",
    "\n",
    "def detect_text(image_path):\n",
    "    \"\"\"Detects text in the file.\"\"\"\n",
    "    client = vision_v1.ImageAnnotatorClient()\n",
    "\n",
    "    with io.open(image_path, 'rb') as image_file:\n",
    "        content = image_file.read()\n",
    "\n",
    "    image = vision_v1.Image(content=content)\n",
    "\n",
    "    response = client.document_text_detection(\n",
    "        image=image, \n",
    "        image_context={\"language_hints\": [\"zh\", \"en\"]}\n",
    "    )\n",
    "    document_json = MessageToJson(response.full_text_annotation._pb)\n",
    "\n",
    "    if not os.path.exists(raw_ocr_directory):\n",
    "        os.makedirs(raw_ocr_directory)\n",
    "\n",
    "    with open(raw_ocr_path, 'w', encoding='utf-8') as json_file:\n",
    "        json_file.write(document_json)"
   ]
  },
  {
   "cell_type": "code",
   "execution_count": 5,
   "metadata": {},
   "outputs": [],
   "source": [
    "def extract_all_pages(pdf_path):\n",
    "    \"\"\"Process all pages in the PDF and extract text.\"\"\"\n",
    "    total_pages = get_total_pages(pdf_path)  # This function should return the number of pages in the PDF.\n",
    "    base_name = os.path.basename(pdf_path)\n",
    "    file_name_without_extension = os.path.splitext(base_name)[0]\n",
    "\n",
    "    for page_number in range(1, total_pages + 1):\n",
    "        try:\n",
    "            # Prepare the specific filename for this page\n",
    "            export_filename = f\"{file_name_without_extension}_page_{page_number}.png\"\n",
    "            menu_image_path = os.path.join(menu_image_directory, export_filename)\n",
    "\n",
    "\n",
    "            # Convert page to image with a new filename\n",
    "            image_path = pdf_page_to_image(pdf_path, page_number, menu_image_path)\n",
    "\n",
    "            # Here, you might want to do something with the image (e.g., save it, analyze it, etc.)\n",
    "            print(f\"Page {page_number} has been processed and saved as {export_filename}\")\n",
    "\n",
    "        except Exception as e:\n",
    "            print(f\"An error occurred on page {page_number}: {str(e)}\")"
   ]
  },
  {
   "cell_type": "code",
   "execution_count": 6,
   "metadata": {},
   "outputs": [
    {
     "name": "stdout",
     "output_type": "stream",
     "text": [
      "Page 1 has been processed and saved as Ma-La-Menu_07-2023_page_1.png\n",
      "Page 2 has been processed and saved as Ma-La-Menu_07-2023_page_2.png\n",
      "Page 3 has been processed and saved as Ma-La-Menu_07-2023_page_3.png\n",
      "Page 4 has been processed and saved as Ma-La-Menu_07-2023_page_4.png\n",
      "Page 5 has been processed and saved as Ma-La-Menu_07-2023_page_5.png\n",
      "Page 6 has been processed and saved as Ma-La-Menu_07-2023_page_6.png\n",
      "Page 7 has been processed and saved as Ma-La-Menu_07-2023_page_7.png\n",
      "Page 8 has been processed and saved as Ma-La-Menu_07-2023_page_8.png\n",
      "Page 9 has been processed and saved as Ma-La-Menu_07-2023_page_9.png\n",
      "Page 10 has been processed and saved as Ma-La-Menu_07-2023_page_10.png\n",
      "Page 11 has been processed and saved as Ma-La-Menu_07-2023_page_11.png\n",
      "Page 12 has been processed and saved as Ma-La-Menu_07-2023_page_12.png\n"
     ]
    }
   ],
   "source": [
    "extract_all_pages('../downloads/Ma-La-Menu_07-2023.pdf')"
   ]
  }
 ],
 "metadata": {
  "kernelspec": {
   "display_name": "Translation",
   "language": "python",
   "name": "python3"
  },
  "language_info": {
   "codemirror_mode": {
    "name": "ipython",
    "version": 3
   },
   "file_extension": ".py",
   "mimetype": "text/x-python",
   "name": "python",
   "nbconvert_exporter": "python",
   "pygments_lexer": "ipython3",
   "version": "3.9.15"
  }
 },
 "nbformat": 4,
 "nbformat_minor": 2
}
