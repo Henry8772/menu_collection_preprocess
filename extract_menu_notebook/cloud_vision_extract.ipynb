{
 "cells": [
  {
   "cell_type": "code",
   "execution_count": 1,
   "metadata": {},
   "outputs": [
    {
     "name": "stderr",
     "output_type": "stream",
     "text": [
      "f:\\Anaconda\\envs\\Translation\\lib\\site-packages\\tqdm\\auto.py:21: TqdmWarning: IProgress not found. Please update jupyter and ipywidgets. See https://ipywidgets.readthedocs.io/en/stable/user_install.html\n",
      "  from .autonotebook import tqdm as notebook_tqdm\n"
     ]
    }
   ],
   "source": [
    "\n",
    "from collections import namedtuple\n",
    "from PIL import Image, ImageDraw, ImageFont\n",
    "from google.cloud import vision\n",
    "from enum import Enum\n",
    "%matplotlib inline\n",
    "import matplotlib.pyplot as plt\n",
    "import os\n",
    "import json\n",
    "from google.protobuf.json_format import MessageToJson\n",
    "from google.protobuf import json_format\n",
    "\n",
    "import sys\n",
    "sys.path.append(\"..\")\n",
    "from models.bounding_box import FeatureType, Point, BoundingBox\n",
    "from utils.cv_preprocess import draw_boxes, group_bounding_boxes, merge_box_groups\n",
    "\n",
    "from utils.file_utils import prepare_image_local, prepare_image_web, load_counter, save_counter, save_json\n",
    "\n",
    "from utils.nlp_preprocess import load_spacy_models, is_english, is_chinese, split_dish_info, is_word_relevant\n",
    "\n",
    "os.environ['GOOGLE_APPLICATION_CREDENTIALS'] = '../menu-ocr-390814-9e6224d09feb.json'\n"
   ]
  },
  {
   "cell_type": "code",
   "execution_count": 2,
   "metadata": {},
   "outputs": [],
   "source": [
    "filein = '../downloads/Ma-La-Menu_07-2023.pdf'\n",
    "base_name = os.path.basename(filein)\n",
    "file_name_without_extension = os.path.splitext(base_name)[0]\n",
    "\n",
    "\n",
    "raw_ocr_directory = '../output/raw_ocr/'\n",
    "raw_ocr_filename = file_name_without_extension + \"_raw_annotation.json\"\n",
    "raw_ocr_path = os.path.join(raw_ocr_directory, raw_ocr_filename)\n",
    "\n",
    "preprocessed_ocr_directory = '../output/prep_ocr/'\n",
    "preprocessed_ocr_filename = file_name_without_extension + \"_prep_ocr.json\"\n",
    "preprocessed_ocr_path = os.path.join(preprocessed_ocr_directory, preprocessed_ocr_filename)"
   ]
  },
  {
   "cell_type": "code",
   "execution_count": 3,
   "metadata": {},
   "outputs": [
    {
     "data": {
      "text/plain": [
       "'../output/raw_ocr/Ma-La-Menu_07-2023_raw_annotation.json'"
      ]
     },
     "execution_count": 3,
     "metadata": {},
     "output_type": "execute_result"
    }
   ],
   "source": [
    "raw_ocr_path"
   ]
  },
  {
   "cell_type": "code",
   "execution_count": 4,
   "metadata": {},
   "outputs": [],
   "source": [
    "image = prepare_image_local(filein)\n",
    "# Same page\n",
    "# image = prepare_image_local('./images/bluefrog蓝蛙(189弄购物中心店)_menu_photos_8.jpg')"
   ]
  },
  {
   "cell_type": "code",
   "execution_count": 5,
   "metadata": {},
   "outputs": [],
   "source": [
    "client = vision.ImageAnnotatorClient()"
   ]
  },
  {
   "cell_type": "code",
   "execution_count": 6,
   "metadata": {},
   "outputs": [],
   "source": [
    "response = client.document_text_detection(\n",
    "    image=image, \n",
    "    image_context={\"language_hints\": [\"zh\", \"en\"]}\n",
    ")\n",
    "\n",
    "# Load existing counter\n",
    "current_count = load_counter()\n",
    "\n",
    "# Increment counter\n",
    "current_count += 1\n",
    "\n",
    "# Save updated counter\n",
    "save_counter(current_count)"
   ]
  },
  {
   "cell_type": "code",
   "execution_count": 7,
   "metadata": {},
   "outputs": [],
   "source": [
    "document_json = MessageToJson(response.full_text_annotation._pb)\n",
    "\n",
    "if not os.path.exists(raw_ocr_directory):\n",
    "    os.makedirs(raw_ocr_directory)\n",
    "\n",
    "with open(raw_ocr_path, 'w', encoding='utf-8') as json_file:\n",
    "    json_file.write(document_json)"
   ]
  }
 ],
 "metadata": {
  "kernelspec": {
   "display_name": "bimenu",
   "language": "python",
   "name": "python3"
  },
  "language_info": {
   "codemirror_mode": {
    "name": "ipython",
    "version": 3
   },
   "file_extension": ".py",
   "mimetype": "text/x-python",
   "name": "python",
   "nbconvert_exporter": "python",
   "pygments_lexer": "ipython3",
   "version": "3.9.15"
  },
  "orig_nbformat": 4
 },
 "nbformat": 4,
 "nbformat_minor": 2
}
