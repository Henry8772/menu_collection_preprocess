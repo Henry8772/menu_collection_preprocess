{
 "cells": [
  {
   "cell_type": "code",
   "execution_count": 34,
   "metadata": {},
   "outputs": [],
   "source": [
    "import cv2\n",
    "import os\n",
    "import pytesseract\n",
    "from PIL import Image\n",
    "%matplotlib inline\n",
    "import matplotlib.pyplot as plt"
   ]
  },
  {
   "cell_type": "code",
   "execution_count": 35,
   "metadata": {},
   "outputs": [],
   "source": [
    "# img = cv2.imread('./images/bluefrog蓝蛙(189弄购物中心店)_receipt_photos_26.jpg', cv2.IMREAD_GRAYSCALE)"
   ]
  },
  {
   "cell_type": "code",
   "execution_count": 36,
   "metadata": {},
   "outputs": [],
   "source": [
    "def is_blurry(image, threshold=100.0):\n",
    "    \"\"\"Check if an image is blurry using the variance of Laplacian method.\"\"\"\n",
    "    laplacian_variance = cv2.Laplacian(image, cv2.CV_64F).var()\n",
    "    return laplacian_variance < threshold\n",
    "\n",
    "def contains_text(image_path):\n",
    "    \"\"\"Check if an image contains text using pytesseract's OCR.\"\"\"\n",
    "    image = Image.open(image_path)\n",
    "    text = pytesseract.image_to_string(image)\n",
    "    return len(text.strip()) > 0\n",
    "\n",
    "def has_sufficient_text_size(image_path, min_height=10):\n",
    "    \"\"\"Check if the detected text regions have height greater than the threshold.\"\"\"\n",
    "    image = Image.open(image_path)\n",
    "    text = pytesseract.image_to_data(image, output_type=pytesseract.Output.DICT)\n",
    "    for height in text[\"height\"]:\n",
    "        if height < min_height:\n",
    "            return False\n",
    "    return True"
   ]
  },
  {
   "cell_type": "code",
   "execution_count": 37,
   "metadata": {},
   "outputs": [
    {
     "name": "stdout",
     "output_type": "stream",
     "text": [
      "./images/bluefrog蓝蛙(虹桥南丰城店)_menu_photos_9.jpg is invalid due to \n",
      "is_blurry: False, no text: False,  small_size: True\n",
      "./images/bluefrog蓝蛙(189弄购物中心店)_menu_photos_62.jpg is invalid due to \n",
      "is_blurry: False, no text: False,  small_size: True\n",
      "./images/bluefrog蓝蛙(七宝万科广场店)_menu_photos_26.jpg is invalid due to \n",
      "is_blurry: False, no text: False,  small_size: True\n",
      "./images/bluefrog蓝蛙(虹桥龙湖天街店)_mix_photos_2.jpg is invalid due to \n",
      "is_blurry: False, no text: True,  small_size: False\n",
      "./images/bluefrog蓝蛙(虹桥龙湖天街店)_mix_photos_10.jpg is invalid due to \n",
      "is_blurry: False, no text: True,  small_size: False\n",
      "./images/bluefrog蓝蛙(缤谷店)_menu_photos_63.jpg is invalid due to \n",
      "is_blurry: False, no text: False,  small_size: True\n",
      "./images/bluefrog蓝蛙(虹桥南丰城店)_menu_photos_10.jpg is invalid due to \n",
      "is_blurry: False, no text: True,  small_size: False\n",
      "./images/bluefrog蓝蛙(虹桥南丰城店)_menu_photos_38.jpg is invalid due to \n",
      "is_blurry: False, no text: False,  small_size: True\n",
      "./images/bluefrog蓝蛙(大华第一坊店)_receipt_photos_41.jpg is invalid due to \n",
      "is_blurry: False, no text: False,  small_size: True\n",
      "./images/bluefrog蓝蛙(正大乐城店)_menu_photos_17.jpg is invalid due to \n",
      "is_blurry: False, no text: False,  small_size: True\n",
      "./images/bluefrog蓝蛙(大华第一坊店)_menu_photos_42.jpg is invalid due to \n",
      "is_blurry: False, no text: False,  small_size: True\n",
      "./images/bluefrog蓝蛙(上海南翔印象城店)_mix_photos_17.jpg is invalid due to \n",
      "is_blurry: False, no text: True,  small_size: False\n",
      "./images/bluefrog蓝蛙(大华第一坊店)_menu_photos_56.jpg is invalid due to \n",
      "is_blurry: False, no text: False,  small_size: True\n",
      "./images/bluefrog蓝蛙(长宁来福士店)_mix_photos_11.jpg is invalid due to \n",
      "is_blurry: False, no text: True,  small_size: False\n",
      "./images/bluefrog蓝蛙(大华第一坊店)_menu_photos_81.jpg is invalid due to \n",
      "is_blurry: False, no text: False,  small_size: True\n",
      "./images/bluefrog蓝蛙(大华第一坊店)_menu_photos_80.jpg is invalid due to \n",
      "is_blurry: False, no text: False,  small_size: True\n",
      "./images/bluefrog蓝蛙(长宁来福士店)_mix_photos_10.jpg is invalid due to \n",
      "is_blurry: False, no text: True,  small_size: False\n",
      "./images/bluefrog蓝蛙(大华第一坊店)_menu_photos_57.jpg is invalid due to \n"
     ]
    },
    {
     "ename": "KeyboardInterrupt",
     "evalue": "",
     "output_type": "error",
     "traceback": [
      "\u001b[0;31m---------------------------------------------------------------------------\u001b[0m",
      "\u001b[0;31mKeyboardInterrupt\u001b[0m                         Traceback (most recent call last)",
      "\u001b[1;32m/Users/yuyu/Fork_git/Labelling_Menu_Data/menu_scraper/notebook/meny_photo_filter.ipynb Cell 4\u001b[0m line \u001b[0;36m2\n\u001b[1;32m     <a href='vscode-notebook-cell:/Users/yuyu/Fork_git/Labelling_Menu_Data/menu_scraper/notebook/meny_photo_filter.ipynb#W2sZmlsZQ%3D%3D?line=19'>20</a>\u001b[0m \u001b[39mif\u001b[39;00m is_blurry(image) \u001b[39mor\u001b[39;00m \u001b[39mnot\u001b[39;00m contains_text(image_path) \u001b[39mor\u001b[39;00m \u001b[39mnot\u001b[39;00m has_sufficient_text_size(image_path):\n\u001b[1;32m     <a href='vscode-notebook-cell:/Users/yuyu/Fork_git/Labelling_Menu_Data/menu_scraper/notebook/meny_photo_filter.ipynb#W2sZmlsZQ%3D%3D?line=20'>21</a>\u001b[0m     \u001b[39mprint\u001b[39m(\u001b[39mf\u001b[39m\u001b[39m\"\u001b[39m\u001b[39m{\u001b[39;00mimage_path\u001b[39m}\u001b[39;00m\u001b[39m is invalid due to \u001b[39m\u001b[39m\"\u001b[39m)\n\u001b[0;32m---> <a href='vscode-notebook-cell:/Users/yuyu/Fork_git/Labelling_Menu_Data/menu_scraper/notebook/meny_photo_filter.ipynb#W2sZmlsZQ%3D%3D?line=21'>22</a>\u001b[0m     \u001b[39mprint\u001b[39m(\u001b[39mf\u001b[39m\u001b[39m\"\u001b[39m\u001b[39mis_blurry: \u001b[39m\u001b[39m{\u001b[39;00mis_blurry(image)\u001b[39m}\u001b[39;00m\u001b[39m, no text: \u001b[39m\u001b[39m{\u001b[39;00m\u001b[39mnot\u001b[39;00m contains_text(image_path)\u001b[39m}\u001b[39;00m\u001b[39m,  small_size: \u001b[39m\u001b[39m{\u001b[39;00m\u001b[39mnot\u001b[39;00m has_sufficient_text_size(image_path)\u001b[39m}\u001b[39;00m\u001b[39m\"\u001b[39m)\n",
      "\u001b[1;32m/Users/yuyu/Fork_git/Labelling_Menu_Data/menu_scraper/notebook/meny_photo_filter.ipynb Cell 4\u001b[0m line \u001b[0;36m1\n\u001b[1;32m     <a href='vscode-notebook-cell:/Users/yuyu/Fork_git/Labelling_Menu_Data/menu_scraper/notebook/meny_photo_filter.ipynb#W2sZmlsZQ%3D%3D?line=12'>13</a>\u001b[0m \u001b[39m\"\"\"Check if the detected text regions have height greater than the threshold.\"\"\"\u001b[39;00m\n\u001b[1;32m     <a href='vscode-notebook-cell:/Users/yuyu/Fork_git/Labelling_Menu_Data/menu_scraper/notebook/meny_photo_filter.ipynb#W2sZmlsZQ%3D%3D?line=13'>14</a>\u001b[0m image \u001b[39m=\u001b[39m Image\u001b[39m.\u001b[39mopen(image_path)\n\u001b[0;32m---> <a href='vscode-notebook-cell:/Users/yuyu/Fork_git/Labelling_Menu_Data/menu_scraper/notebook/meny_photo_filter.ipynb#W2sZmlsZQ%3D%3D?line=14'>15</a>\u001b[0m text \u001b[39m=\u001b[39m pytesseract\u001b[39m.\u001b[39;49mimage_to_data(image, output_type\u001b[39m=\u001b[39;49mpytesseract\u001b[39m.\u001b[39;49mOutput\u001b[39m.\u001b[39;49mDICT)\n\u001b[1;32m     <a href='vscode-notebook-cell:/Users/yuyu/Fork_git/Labelling_Menu_Data/menu_scraper/notebook/meny_photo_filter.ipynb#W2sZmlsZQ%3D%3D?line=15'>16</a>\u001b[0m \u001b[39mfor\u001b[39;00m height \u001b[39min\u001b[39;00m text[\u001b[39m\"\u001b[39m\u001b[39mheight\u001b[39m\u001b[39m\"\u001b[39m]:\n\u001b[1;32m     <a href='vscode-notebook-cell:/Users/yuyu/Fork_git/Labelling_Menu_Data/menu_scraper/notebook/meny_photo_filter.ipynb#W2sZmlsZQ%3D%3D?line=16'>17</a>\u001b[0m     \u001b[39mif\u001b[39;00m height \u001b[39m<\u001b[39m min_height:\n",
      "File \u001b[0;32m/opt/anaconda3/envs/translation/lib/python3.9/site-packages/pytesseract/pytesseract.py:527\u001b[0m, in \u001b[0;36mimage_to_data\u001b[0;34m(image, lang, config, nice, output_type, timeout, pandas_config)\u001b[0m\n\u001b[1;32m    524\u001b[0m config \u001b[39m=\u001b[39m \u001b[39mf\u001b[39m\u001b[39m'\u001b[39m\u001b[39m-c tessedit_create_tsv=1 \u001b[39m\u001b[39m{\u001b[39;00mconfig\u001b[39m.\u001b[39mstrip()\u001b[39m}\u001b[39;00m\u001b[39m'\u001b[39m\n\u001b[1;32m    525\u001b[0m args \u001b[39m=\u001b[39m [image, \u001b[39m'\u001b[39m\u001b[39mtsv\u001b[39m\u001b[39m'\u001b[39m, lang, config, nice, timeout]\n\u001b[0;32m--> 527\u001b[0m \u001b[39mreturn\u001b[39;00m {\n\u001b[1;32m    528\u001b[0m     Output\u001b[39m.\u001b[39;49mBYTES: \u001b[39mlambda\u001b[39;49;00m: run_and_get_output(\u001b[39m*\u001b[39;49m(args \u001b[39m+\u001b[39;49m [\u001b[39mTrue\u001b[39;49;00m])),\n\u001b[1;32m    529\u001b[0m     Output\u001b[39m.\u001b[39;49mDATAFRAME: \u001b[39mlambda\u001b[39;49;00m: get_pandas_output(\n\u001b[1;32m    530\u001b[0m         args \u001b[39m+\u001b[39;49m [\u001b[39mTrue\u001b[39;49;00m],\n\u001b[1;32m    531\u001b[0m         pandas_config,\n\u001b[1;32m    532\u001b[0m     ),\n\u001b[1;32m    533\u001b[0m     Output\u001b[39m.\u001b[39;49mDICT: \u001b[39mlambda\u001b[39;49;00m: file_to_dict(run_and_get_output(\u001b[39m*\u001b[39;49margs), \u001b[39m'\u001b[39;49m\u001b[39m\\t\u001b[39;49;00m\u001b[39m'\u001b[39;49m, \u001b[39m-\u001b[39;49m\u001b[39m1\u001b[39;49m),\n\u001b[1;32m    534\u001b[0m     Output\u001b[39m.\u001b[39;49mSTRING: \u001b[39mlambda\u001b[39;49;00m: run_and_get_output(\u001b[39m*\u001b[39;49margs),\n\u001b[1;32m    535\u001b[0m }[output_type]()\n",
      "File \u001b[0;32m/opt/anaconda3/envs/translation/lib/python3.9/site-packages/pytesseract/pytesseract.py:533\u001b[0m, in \u001b[0;36mimage_to_data.<locals>.<lambda>\u001b[0;34m()\u001b[0m\n\u001b[1;32m    524\u001b[0m config \u001b[39m=\u001b[39m \u001b[39mf\u001b[39m\u001b[39m'\u001b[39m\u001b[39m-c tessedit_create_tsv=1 \u001b[39m\u001b[39m{\u001b[39;00mconfig\u001b[39m.\u001b[39mstrip()\u001b[39m}\u001b[39;00m\u001b[39m'\u001b[39m\n\u001b[1;32m    525\u001b[0m args \u001b[39m=\u001b[39m [image, \u001b[39m'\u001b[39m\u001b[39mtsv\u001b[39m\u001b[39m'\u001b[39m, lang, config, nice, timeout]\n\u001b[1;32m    527\u001b[0m \u001b[39mreturn\u001b[39;00m {\n\u001b[1;32m    528\u001b[0m     Output\u001b[39m.\u001b[39mBYTES: \u001b[39mlambda\u001b[39;00m: run_and_get_output(\u001b[39m*\u001b[39m(args \u001b[39m+\u001b[39m [\u001b[39mTrue\u001b[39;00m])),\n\u001b[1;32m    529\u001b[0m     Output\u001b[39m.\u001b[39mDATAFRAME: \u001b[39mlambda\u001b[39;00m: get_pandas_output(\n\u001b[1;32m    530\u001b[0m         args \u001b[39m+\u001b[39m [\u001b[39mTrue\u001b[39;00m],\n\u001b[1;32m    531\u001b[0m         pandas_config,\n\u001b[1;32m    532\u001b[0m     ),\n\u001b[0;32m--> 533\u001b[0m     Output\u001b[39m.\u001b[39mDICT: \u001b[39mlambda\u001b[39;00m: file_to_dict(run_and_get_output(\u001b[39m*\u001b[39;49margs), \u001b[39m'\u001b[39m\u001b[39m\\t\u001b[39;00m\u001b[39m'\u001b[39m, \u001b[39m-\u001b[39m\u001b[39m1\u001b[39m),\n\u001b[1;32m    534\u001b[0m     Output\u001b[39m.\u001b[39mSTRING: \u001b[39mlambda\u001b[39;00m: run_and_get_output(\u001b[39m*\u001b[39margs),\n\u001b[1;32m    535\u001b[0m }[output_type]()\n",
      "File \u001b[0;32m/opt/anaconda3/envs/translation/lib/python3.9/site-packages/pytesseract/pytesseract.py:288\u001b[0m, in \u001b[0;36mrun_and_get_output\u001b[0;34m(image, extension, lang, config, nice, timeout, return_bytes)\u001b[0m\n\u001b[1;32m    277\u001b[0m \u001b[39mwith\u001b[39;00m save(image) \u001b[39mas\u001b[39;00m (temp_name, input_filename):\n\u001b[1;32m    278\u001b[0m     kwargs \u001b[39m=\u001b[39m {\n\u001b[1;32m    279\u001b[0m         \u001b[39m'\u001b[39m\u001b[39minput_filename\u001b[39m\u001b[39m'\u001b[39m: input_filename,\n\u001b[1;32m    280\u001b[0m         \u001b[39m'\u001b[39m\u001b[39moutput_filename_base\u001b[39m\u001b[39m'\u001b[39m: temp_name,\n\u001b[0;32m   (...)\u001b[0m\n\u001b[1;32m    285\u001b[0m         \u001b[39m'\u001b[39m\u001b[39mtimeout\u001b[39m\u001b[39m'\u001b[39m: timeout,\n\u001b[1;32m    286\u001b[0m     }\n\u001b[0;32m--> 288\u001b[0m     run_tesseract(\u001b[39m*\u001b[39;49m\u001b[39m*\u001b[39;49mkwargs)\n\u001b[1;32m    289\u001b[0m     filename \u001b[39m=\u001b[39m \u001b[39mf\u001b[39m\u001b[39m\"\u001b[39m\u001b[39m{\u001b[39;00mkwargs[\u001b[39m'\u001b[39m\u001b[39moutput_filename_base\u001b[39m\u001b[39m'\u001b[39m]\u001b[39m}\u001b[39;00m\u001b[39m{\u001b[39;00mextsep\u001b[39m}\u001b[39;00m\u001b[39m{\u001b[39;00mextension\u001b[39m}\u001b[39;00m\u001b[39m\"\u001b[39m\n\u001b[1;32m    290\u001b[0m     \u001b[39mwith\u001b[39;00m \u001b[39mopen\u001b[39m(filename, \u001b[39m'\u001b[39m\u001b[39mrb\u001b[39m\u001b[39m'\u001b[39m) \u001b[39mas\u001b[39;00m output_file:\n",
      "File \u001b[0;32m/opt/anaconda3/envs/translation/lib/python3.9/site-packages/pytesseract/pytesseract.py:262\u001b[0m, in \u001b[0;36mrun_tesseract\u001b[0;34m(input_filename, output_filename_base, extension, lang, config, nice, timeout)\u001b[0m\n\u001b[1;32m    259\u001b[0m     \u001b[39melse\u001b[39;00m:\n\u001b[1;32m    260\u001b[0m         \u001b[39mraise\u001b[39;00m TesseractNotFoundError()\n\u001b[0;32m--> 262\u001b[0m \u001b[39mwith\u001b[39;00m timeout_manager(proc, timeout) \u001b[39mas\u001b[39;00m error_string:\n\u001b[1;32m    263\u001b[0m     \u001b[39mif\u001b[39;00m proc\u001b[39m.\u001b[39mreturncode:\n\u001b[1;32m    264\u001b[0m         \u001b[39mraise\u001b[39;00m TesseractError(proc\u001b[39m.\u001b[39mreturncode, get_errors(error_string))\n",
      "File \u001b[0;32m/opt/anaconda3/envs/translation/lib/python3.9/contextlib.py:119\u001b[0m, in \u001b[0;36m_GeneratorContextManager.__enter__\u001b[0;34m(self)\u001b[0m\n\u001b[1;32m    117\u001b[0m \u001b[39mdel\u001b[39;00m \u001b[39mself\u001b[39m\u001b[39m.\u001b[39margs, \u001b[39mself\u001b[39m\u001b[39m.\u001b[39mkwds, \u001b[39mself\u001b[39m\u001b[39m.\u001b[39mfunc\n\u001b[1;32m    118\u001b[0m \u001b[39mtry\u001b[39;00m:\n\u001b[0;32m--> 119\u001b[0m     \u001b[39mreturn\u001b[39;00m \u001b[39mnext\u001b[39;49m(\u001b[39mself\u001b[39;49m\u001b[39m.\u001b[39;49mgen)\n\u001b[1;32m    120\u001b[0m \u001b[39mexcept\u001b[39;00m \u001b[39mStopIteration\u001b[39;00m:\n\u001b[1;32m    121\u001b[0m     \u001b[39mraise\u001b[39;00m \u001b[39mRuntimeError\u001b[39;00m(\u001b[39m\"\u001b[39m\u001b[39mgenerator didn\u001b[39m\u001b[39m'\u001b[39m\u001b[39mt yield\u001b[39m\u001b[39m\"\u001b[39m) \u001b[39mfrom\u001b[39;00m \u001b[39mNone\u001b[39m\n",
      "File \u001b[0;32m/opt/anaconda3/envs/translation/lib/python3.9/site-packages/pytesseract/pytesseract.py:127\u001b[0m, in \u001b[0;36mtimeout_manager\u001b[0;34m(proc, seconds)\u001b[0m\n\u001b[1;32m    125\u001b[0m \u001b[39mtry\u001b[39;00m:\n\u001b[1;32m    126\u001b[0m     \u001b[39mif\u001b[39;00m \u001b[39mnot\u001b[39;00m seconds:\n\u001b[0;32m--> 127\u001b[0m         \u001b[39myield\u001b[39;00m proc\u001b[39m.\u001b[39;49mcommunicate()[\u001b[39m1\u001b[39m]\n\u001b[1;32m    128\u001b[0m         \u001b[39mreturn\u001b[39;00m\n\u001b[1;32m    130\u001b[0m     \u001b[39mtry\u001b[39;00m:\n",
      "File \u001b[0;32m/opt/anaconda3/envs/translation/lib/python3.9/subprocess.py:1134\u001b[0m, in \u001b[0;36mPopen.communicate\u001b[0;34m(self, input, timeout)\u001b[0m\n\u001b[1;32m   1131\u001b[0m     endtime \u001b[39m=\u001b[39m \u001b[39mNone\u001b[39;00m\n\u001b[1;32m   1133\u001b[0m \u001b[39mtry\u001b[39;00m:\n\u001b[0;32m-> 1134\u001b[0m     stdout, stderr \u001b[39m=\u001b[39m \u001b[39mself\u001b[39;49m\u001b[39m.\u001b[39;49m_communicate(\u001b[39minput\u001b[39;49m, endtime, timeout)\n\u001b[1;32m   1135\u001b[0m \u001b[39mexcept\u001b[39;00m \u001b[39mKeyboardInterrupt\u001b[39;00m:\n\u001b[1;32m   1136\u001b[0m     \u001b[39m# https://bugs.python.org/issue25942\u001b[39;00m\n\u001b[1;32m   1137\u001b[0m     \u001b[39m# See the detailed comment in .wait().\u001b[39;00m\n\u001b[1;32m   1138\u001b[0m     \u001b[39mif\u001b[39;00m timeout \u001b[39mis\u001b[39;00m \u001b[39mnot\u001b[39;00m \u001b[39mNone\u001b[39;00m:\n",
      "File \u001b[0;32m/opt/anaconda3/envs/translation/lib/python3.9/subprocess.py:1979\u001b[0m, in \u001b[0;36mPopen._communicate\u001b[0;34m(self, input, endtime, orig_timeout)\u001b[0m\n\u001b[1;32m   1972\u001b[0m     \u001b[39mself\u001b[39m\u001b[39m.\u001b[39m_check_timeout(endtime, orig_timeout,\n\u001b[1;32m   1973\u001b[0m                         stdout, stderr,\n\u001b[1;32m   1974\u001b[0m                         skip_check_and_raise\u001b[39m=\u001b[39m\u001b[39mTrue\u001b[39;00m)\n\u001b[1;32m   1975\u001b[0m     \u001b[39mraise\u001b[39;00m \u001b[39mRuntimeError\u001b[39;00m(  \u001b[39m# Impossible :)\u001b[39;00m\n\u001b[1;32m   1976\u001b[0m         \u001b[39m'\u001b[39m\u001b[39m_check_timeout(..., skip_check_and_raise=True) \u001b[39m\u001b[39m'\u001b[39m\n\u001b[1;32m   1977\u001b[0m         \u001b[39m'\u001b[39m\u001b[39mfailed to raise TimeoutExpired.\u001b[39m\u001b[39m'\u001b[39m)\n\u001b[0;32m-> 1979\u001b[0m ready \u001b[39m=\u001b[39m selector\u001b[39m.\u001b[39;49mselect(timeout)\n\u001b[1;32m   1980\u001b[0m \u001b[39mself\u001b[39m\u001b[39m.\u001b[39m_check_timeout(endtime, orig_timeout, stdout, stderr)\n\u001b[1;32m   1982\u001b[0m \u001b[39m# XXX Rewrite these to use non-blocking I/O on the file\u001b[39;00m\n\u001b[1;32m   1983\u001b[0m \u001b[39m# objects; they are no longer using C stdio!\u001b[39;00m\n",
      "File \u001b[0;32m/opt/anaconda3/envs/translation/lib/python3.9/selectors.py:416\u001b[0m, in \u001b[0;36m_PollLikeSelector.select\u001b[0;34m(self, timeout)\u001b[0m\n\u001b[1;32m    414\u001b[0m ready \u001b[39m=\u001b[39m []\n\u001b[1;32m    415\u001b[0m \u001b[39mtry\u001b[39;00m:\n\u001b[0;32m--> 416\u001b[0m     fd_event_list \u001b[39m=\u001b[39m \u001b[39mself\u001b[39;49m\u001b[39m.\u001b[39;49m_selector\u001b[39m.\u001b[39;49mpoll(timeout)\n\u001b[1;32m    417\u001b[0m \u001b[39mexcept\u001b[39;00m \u001b[39mInterruptedError\u001b[39;00m:\n\u001b[1;32m    418\u001b[0m     \u001b[39mreturn\u001b[39;00m ready\n",
      "\u001b[0;31mKeyboardInterrupt\u001b[0m: "
     ]
    }
   ],
   "source": [
    "\n",
    "\n",
    "if __name__ == \"__main__\":\n",
    "    # Define your folder path\n",
    "    folder_path = './images/'\n",
    "\n",
    "    # # Create a folder for valid images\n",
    "    # valid_folder = './valid_photos/'\n",
    "    # os.makedirs(valid_folder, exist_ok=True)\n",
    "\n",
    "    # Iterate over each image\n",
    "    for filename in os.listdir(folder_path):\n",
    "        if filename.endswith('.jpg') or filename.endswith('.png'):\n",
    "            image_path = os.path.join(folder_path, filename)\n",
    "\n",
    "            # Load the image\n",
    "            image = cv2.imread(image_path, cv2.IMREAD_GRAYSCALE)\n",
    "            if image is None:\n",
    "                print(f\"Error loading image: {image_path}\")\n",
    "                continue  # Skip this image and move to the next one\n",
    "\n",
    "            if is_blurry(image) or not contains_text(image_path) or not has_sufficient_text_size(image_path):\n",
    "                print(f\"{image_path} is invalid due to \")\n",
    "                print(f\"is_blurry: {is_blurry(image)}, no text: {not contains_text(image_path)},  small_text: {not has_sufficient_text_size(image_path)}\")\n",
    "                # Move valid images to the valid_photos folder\n",
    "                # os.rename(image_path, os.path.join(valid_folder, filename))\n"
   ]
  }
 ],
 "metadata": {
  "kernelspec": {
   "display_name": "translation",
   "language": "python",
   "name": "python3"
  },
  "language_info": {
   "codemirror_mode": {
    "name": "ipython",
    "version": 3
   },
   "file_extension": ".py",
   "mimetype": "text/x-python",
   "name": "python",
   "nbconvert_exporter": "python",
   "pygments_lexer": "ipython3",
   "version": "3.9.15"
  },
  "orig_nbformat": 4
 },
 "nbformat": 4,
 "nbformat_minor": 2
}
