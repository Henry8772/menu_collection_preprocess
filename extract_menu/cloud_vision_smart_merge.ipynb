{
 "cells": [
  {
   "cell_type": "code",
   "execution_count": 20,
   "metadata": {},
   "outputs": [
    {
     "name": "stdout",
     "output_type": "stream",
     "text": [
      "{'chinese_name': [{'word': '蓝'}, {'word': '蛙'}, {'word': '炸'}, {'word': '鸡'}], 'english_name': [{'word': 'Blue'}, {'word': 'Frog'}, {'word': 'Fried'}, {'word': 'Chicken'}]}\n"
     ]
    }
   ],
   "source": [
    "def jaccard_similarity(list1, list2):\n",
    "    s1 = set(list1)\n",
    "    s2 = set(list2)\n",
    "    return len(s1.intersection(s2)) / len(s1.union(s2))\n",
    "\n",
    "def merge_data(data1, data2, threshold=0.5):\n",
    "    merged_data = {}\n",
    "    \n",
    "    for key in [\"chinese_name\", \"english_name\"]:\n",
    "        words1 = [item[\"word\"] for item in data1[key]]\n",
    "        words2 = [item[\"word\"] for item in data2[key]]\n",
    "\n",
    "        sim = jaccard_similarity(words1, words2)\n",
    "        \n",
    "        if sim > threshold:\n",
    "            merged_words = merge_phrases(' '.join(words1), ' '.join(words2)).split()\n",
    "        else:\n",
    "            merged_words = words1 + words2\n",
    "        \n",
    "        merged_data[key] = [{\"word\": word} for word in merged_words]\n",
    "\n",
    "    return merged_data\n",
    "\n",
    "def merge_phrases(phrase1, phrase2):\n",
    "    tokens1 = phrase1.split()\n",
    "    tokens2 = phrase2.split()\n",
    "\n",
    "    result = []\n",
    "    i = 0\n",
    "\n",
    "    for token in tokens1:\n",
    "        if token in tokens2:\n",
    "            while i < len(tokens2) and tokens2[i] != token:\n",
    "                result.append(tokens2[i])\n",
    "                i += 1\n",
    "            if i < len(tokens2) and tokens2[i] == token:\n",
    "                i += 1\n",
    "        result.append(token)\n",
    "\n",
    "    while i < len(tokens2):\n",
    "        result.append(tokens2[i])\n",
    "        i += 1\n",
    "\n",
    "    return ' '.join(result)\n",
    "\n",
    "data3 = {\n",
    "    \"chinese_name\": [{\"word\": \"蓝\"},\n",
    "                     {\"word\": \"炸\"},\n",
    "                     {\"word\": \"鸡\"}],\n",
    "    \"english_name\": [{\"word\": \"Blue\"},\n",
    "                     {\"word\": \"Fried\"},\n",
    "                     {\"word\": \"Chicken\"}]\n",
    "}\n",
    "\n",
    "data4 = {\n",
    "    \"chinese_name\": [{\"word\": \"蓝\"},\n",
    "                    {\"word\": \"蛙\"},\n",
    "                     {\"word\": \"炸\"}],\n",
    "    \"english_name\": [{\"word\": \"Blue\"},\n",
    "                     {\"word\": \"Frog\"},\n",
    "                     {\"word\": \"Fried\"}]\n",
    "}\n",
    "\n",
    "merged_data = merge_data(data3, data4, threshold=0.3)\n",
    "print(merged_data)\n"
   ]
  }
 ],
 "metadata": {
  "kernelspec": {
   "display_name": "Translation",
   "language": "python",
   "name": "python3"
  },
  "language_info": {
   "codemirror_mode": {
    "name": "ipython",
    "version": 3
   },
   "file_extension": ".py",
   "mimetype": "text/x-python",
   "name": "python",
   "nbconvert_exporter": "python",
   "pygments_lexer": "ipython3",
   "version": "3.9.15"
  },
  "orig_nbformat": 4
 },
 "nbformat": 4,
 "nbformat_minor": 2
}
